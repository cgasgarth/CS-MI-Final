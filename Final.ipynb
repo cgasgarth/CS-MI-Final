{
 "cells": [
  {
   "cell_type": "code",
   "execution_count": 87,
   "metadata": {},
   "outputs": [
    {
     "data": {
      "image/png": "[encoded data removed]",
      "text/plain": [
       "<Figure size 432x288 with 1 Axes>"
      ]
     },
     "metadata": {
      "needs_background": "light"
     },
     "output_type": "display_data"
    },
    {
     "name": "stdout",
     "output_type": "stream",
     "text": [
      "163840\n",
      "1024\n"
     ]
    },
    {
     "data": {
      "image/png": "[encoded data removed]",
      "text/plain": [
       "<Figure size 432x288 with 1 Axes>"
      ]
     },
     "metadata": {
      "needs_background": "light"
     },
     "output_type": "display_data"
    }
   ],
   "source": [
    "import math\n",
    "import matplotlib.pyplot as plt\n",
    "import numpy as np\n",
    "import librosa\n",
    "\n",
    "def peakFunction(x):\n",
    "    \"\"\"\n",
    "    Construct a harmonic peak\n",
    "    \"\"\"\n",
    "    return math.exp(-0.5*x*x)\n",
    "\n",
    "def template(midi, N, sr):\n",
    "    \"\"\"\n",
    "    Returns a frequency spectrum template for the given midi note.\n",
    "    N must be an even number.\n",
    "    \"\"\"\n",
    "    if N % 2 != 0:\n",
    "        print(\"Please crop your recording so that the number of samples is an even number.\")\n",
    "        return None\n",
    "    f0 = 440*np.power(2, (midi-69)/12) # fundamental frequency\n",
    "    H = 13 # number of harmonics to include\n",
    "    bins = math.floor(N/2) # half of the bins\n",
    "    template = np.zeros(bins) \n",
    "    \n",
    "    for h in range(1, H+1): # h = 1, 2, 3, ..., H\n",
    "        bin = round(f0*h*N/sr) # bin index of this harmonic\n",
    "        if bin >= bins: # exceeds Nyquist frequency\n",
    "            break\n",
    "        sigma = bin * 0.01 + 0.01 # controls the width of the peak\n",
    "        for k in range(bins):\n",
    "            x = (k-bin)/sigma\n",
    "            template[k] += math.exp(-k*0.03) * peakFunction(x)\n",
    "    return template\n",
    "\n",
    "## Print template\n",
    "plt.plot(template(60, 1024, 8000)) # CHANGE THE FIRST ARGUMENT\n",
    "plt.show()\n",
    "\n",
    "\n",
    "## YOUR CODE HERE\n",
    "\n",
    "x, sr = librosa.load('s1.wav', sr = None)\n",
    "plt.plot(x)\n",
    "print(len(x))\n",
    "x = x[0:1024]\n",
    "print(len(x))"
   ]
  },
  {
   "cell_type": "code",
   "execution_count": 88,
   "metadata": {},
   "outputs": [
    {
     "name": "stderr",
     "output_type": "stream",
     "text": [
      "/usr/local/lib/python3.9/site-packages/librosa/core/spectrum.py:222: UserWarning: n_fft=2048 is too small for input signal of length=1024\n",
      "  warnings.warn(\n"
     ]
    },
    {
     "ename": "AttributeError",
     "evalue": "module 'librosa' has no attribute 'display'",
     "output_type": "error",
     "traceback": [
      "\u001b[0;31m---------------------------------------------------------------------------\u001b[0m",
      "\u001b[0;31mAttributeError\u001b[0m                            Traceback (most recent call last)",
      "\u001b[0;32m/var/folders/93/4gs3mh592vg89b_rnldsbz7w0000gn/T/ipykernel_35415/1296092715.py\u001b[0m in \u001b[0;36m<module>\u001b[0;34m\u001b[0m\n\u001b[1;32m      5\u001b[0m \u001b[0mXdb\u001b[0m \u001b[0;34m=\u001b[0m \u001b[0mlibrosa\u001b[0m\u001b[0;34m.\u001b[0m\u001b[0mamplitude_to_db\u001b[0m\u001b[0;34m(\u001b[0m\u001b[0mabs\u001b[0m\u001b[0;34m(\u001b[0m\u001b[0mX\u001b[0m\u001b[0;34m)\u001b[0m\u001b[0;34m)\u001b[0m\u001b[0;34m\u001b[0m\u001b[0;34m\u001b[0m\u001b[0m\n\u001b[1;32m      6\u001b[0m \u001b[0mplt\u001b[0m\u001b[0;34m.\u001b[0m\u001b[0mfigure\u001b[0m\u001b[0;34m(\u001b[0m\u001b[0mfigsize\u001b[0m\u001b[0;34m=\u001b[0m\u001b[0;34m(\u001b[0m\u001b[0;36m14\u001b[0m\u001b[0;34m,\u001b[0m \u001b[0;36m5\u001b[0m\u001b[0;34m)\u001b[0m\u001b[0;34m)\u001b[0m\u001b[0;34m\u001b[0m\u001b[0;34m\u001b[0m\u001b[0m\n\u001b[0;32m----> 7\u001b[0;31m \u001b[0mlibrosa\u001b[0m\u001b[0;34m.\u001b[0m\u001b[0mdisplay\u001b[0m\u001b[0;34m.\u001b[0m\u001b[0mspecshow\u001b[0m\u001b[0;34m(\u001b[0m\u001b[0mXdb\u001b[0m\u001b[0;34m,\u001b[0m \u001b[0msr\u001b[0m\u001b[0;34m=\u001b[0m\u001b[0msr\u001b[0m\u001b[0;34m,\u001b[0m \u001b[0mx_axis\u001b[0m\u001b[0;34m=\u001b[0m\u001b[0;34m'time'\u001b[0m\u001b[0;34m,\u001b[0m \u001b[0my_axis\u001b[0m\u001b[0;34m=\u001b[0m\u001b[0;34m'hz'\u001b[0m\u001b[0;34m)\u001b[0m\u001b[0;34m\u001b[0m\u001b[0;34m\u001b[0m\u001b[0m\n\u001b[0m\u001b[1;32m      8\u001b[0m \u001b[0;31m#If to pring log of frequencies\u001b[0m\u001b[0;34m\u001b[0m\u001b[0;34m\u001b[0m\u001b[0m\n\u001b[1;32m      9\u001b[0m \u001b[0mlibrosa\u001b[0m\u001b[0;34m.\u001b[0m\u001b[0mdisplay\u001b[0m\u001b[0;34m.\u001b[0m\u001b[0mspecshow\u001b[0m\u001b[0;34m(\u001b[0m\u001b[0mXdb\u001b[0m\u001b[0;34m,\u001b[0m \u001b[0msr\u001b[0m\u001b[0;34m=\u001b[0m\u001b[0msr\u001b[0m\u001b[0;34m,\u001b[0m \u001b[0mx_axis\u001b[0m\u001b[0;34m=\u001b[0m\u001b[0;34m'time'\u001b[0m\u001b[0;34m,\u001b[0m \u001b[0my_axis\u001b[0m\u001b[0;34m=\u001b[0m\u001b[0;34m'log'\u001b[0m\u001b[0;34m)\u001b[0m\u001b[0;34m\u001b[0m\u001b[0;34m\u001b[0m\u001b[0m\n",
      "\u001b[0;31mAttributeError\u001b[0m: module 'librosa' has no attribute 'display'"
     ]
    },
    {
     "data": {
      "text/plain": [
       "<Figure size 1008x360 with 0 Axes>"
      ]
     },
     "metadata": {},
     "output_type": "display_data"
    }
   ],
   "source": [
    "import numpy as np\n",
    "import matplotlib.pyplot as plt\n",
    "#display Spectrogram\n",
    "X = librosa.stft(x)\n",
    "Xdb = librosa.amplitude_to_db(abs(X))\n",
    "plt.figure(figsize=(14, 5))\n",
    "librosa.display.specshow(Xdb, sr=sr, x_axis='time', y_axis='hz') \n",
    "#If to pring log of frequencies  \n",
    "librosa.display.specshow(Xdb, sr=sr, x_axis='time', y_axis='log')\n",
    "plt.colorbar()\n",
    "# Define states\n",
    "LOW_MIDI = 47\n",
    "HIGH_MIDI = 74\n",
    "STATES_PER_NOTE = 5\n",
    "STATE_VALUES = ((HIGH_MIDI - LOW_MIDI) + 2) * STATES_PER_NOTE # REPLACE IT WITH THE TOTAL NUMBER OF POSSIBLE STATES (INCLUDING \"SILENCE\")\n",
    "\n",
    "# Define initial distribution\n",
    "init_dist = np.zeros(STATE_VALUES)\n",
    "for i in range(STATE_VALUES):\n",
    "    if i % STATES_PER_NOTE  == 0: # equal chance of being in the first state of any note\n",
    "        init_dist[i] = 1/STATE_VALUES\n",
    "\n",
    "# Define transition matrix\n",
    "A = np.zeros((STATE_VALUES, STATE_VALUES))\n",
    "for i in range(A.shape[0]): # for each state\n",
    "    A[i, i] = 1 # every state has a self loop\n",
    "    if (i+1)%STATES_PER_NOTE  != 0: # if this state is not the fifth state of a note\n",
    "        A[i, i+1] = 1 # this state has an arrow to the next state (which is within the same note)\n",
    "    else: # if this state is the fifth state of a note\n",
    "        for j in range(STATE_VALUES // STATES_PER_NOTE):\n",
    "            A[i, j*STATES_PER_NOTE ] = 1\n",
    "\n",
    "# Normalize every row so each row sums to 1\n",
    "for i in range(A.shape[0]):\n",
    "    A[i, ] = A[i, ] / sum(A[i, ])\n",
    "\n",
    "\n",
    "import math\n",
    "\n",
    "def peak_fun(x):\n",
    "    \"\"\"\n",
    "    Constructs and returns a harmonic peak\n",
    "    \"\"\"\n",
    "    return math.exp(-0.5*x*x)\n",
    "\n",
    "\n",
    "def midi2freq(midi):\n",
    "    \"\"\"\n",
    "    Returns the frequency (in Hz) of the given midi number\n",
    "    \"\"\"\n",
    "    return 440*np.power(2, (midi-69)/12)\n",
    "\n",
    "\n",
    "def template(midi, N, sr):\n",
    "    \"\"\"\n",
    "    Returns a frequency profile template for the given midi note.\n",
    "        midi: midi number\n",
    "        N: frame size (must be an even number)\n",
    "        sr: sample rate\n",
    "    \"\"\"\n",
    "    if N % 2 != 0:\n",
    "        print(\"Frame size is not even!\")\n",
    "        return None\n",
    "    f0 = midi2freq(midi) # fundamental frequency\n",
    "    H = 13 # maximumn number of harmonics to include\n",
    "    bins = math.floor(N/2) # half of the DFT result\n",
    "    template = np.zeros(bins) \n",
    "    \n",
    "    for h in range(1, H+1): # h = 1, 2, 3, ..., H\n",
    "        bin = round(f0*h*N/sr) # bin index of this harmonic\n",
    "        if bin >= bins: # exceeds Nyquist frequency\n",
    "            break\n",
    "        sigma = bin * 0.01 + 0.01 # controls the width of the peak\n",
    "        for k in range(bins):\n",
    "            x = (k-bin)/sigma\n",
    "            template[k] += math.exp(-k*0.01) * peak_fun(x) # descreasing amplitudes for higher frequencies\n",
    "    \n",
    "    for k in range(bins):\n",
    "        template[k] += 0.002\n",
    "    # Normalize all bins:\n",
    "    total = sum(template)\n",
    "    if (total > 0):\n",
    "        template = template / total\n",
    "    else:\n",
    "        print(\"The template has 0 everywhere!\")\n",
    "    return template\n",
    "\n",
    "\n",
    "def create_midi_templates(N, sr):\n",
    "    \"\"\"\n",
    "    Returns a dictionary where the key is a midi number (or 0) and\n",
    "    the value is the template of this midi note.\n",
    "    (silence is represented by 0)\n",
    "    \"\"\"\n",
    "    templates = {}\n",
    "    for midi in range(LOW_MIDI, HIGH_MIDI + 1):\n",
    "        templates[midi] = template(midi, N, sr)\n",
    "    # Template for \"silence\":\n",
    "    templates[0] = np.repeat(1/math.floor(N/2), math.floor(N/2)) # flat template\n",
    "    return templates\n",
    "\n",
    "## YOUR CODE HERE...\n",
    "created_templates = create_midi_templates(1024, 8000)\n",
    "# plt.plot(created_templates[56], color=\"red\")\n",
    "plt.plot(Xdb, color=\"green\")\n",
    "plt.legend(('56','63'), loc = 'upper right', title = 'MIDI Numbers')\n",
    "plt.xlabel(\"Frequency\")\n",
    "plt.ylabel(\"Amplitude\")\n",
    "plt.title(\"Frequency Profile Templates for Audio File\")\n",
    "plt.show()\n",
    "Xdb\n",
    "\n",
    "print(len(Xdb))\n",
    "print(len(Xdb[400]))\n",
    "plt.plot(Xdb[200])"
   ]
  },
  {
   "cell_type": "code",
   "execution_count": 162,
   "metadata": {},
   "outputs": [
    {
     "name": "stdout",
     "output_type": "stream",
     "text": [
      "656\n"
     ]
    },
    {
     "data": {
      "image/png": "[encoded data removed]",
      "text/plain": [
       "<Figure size 432x288 with 1 Axes>"
      ]
     },
     "metadata": {
      "needs_background": "light"
     },
     "output_type": "display_data"
    }
   ],
   "source": [
    "from numpy.fft import fft\n",
    "\n",
    "SR = 8000 # DON'T CHANGE\n",
    "N = 1024 # DON'T CHANGE\n",
    "hop = int(N/2) # DON'T CHANGE\n",
    "file_path = \"dguitarLong.wav\"\n",
    "samples, sr = librosa.load(file_path, sr = SR)\n",
    "\n",
    "totalHarmonics = []\n",
    "\n",
    "# print(len(samples))\n",
    "for x in range(0, int(len(samples) / 1024) - 1):\n",
    "    realSamples = samples[1026 * x : 1026 * (x + 1)]\n",
    "    # Calculate STFT\n",
    "    T = math.floor( (len(realSamples)-N) / hop ) + 1 # the total number of frames\n",
    "    STFT = np.zeros((N, T), dtype='complex') # the STFT result is a N by T matrix\n",
    "    hann = 0.5 * ( 1 - np.cos(2*np.pi*np.arange(N)/N) ) # Hann window\n",
    "    for t in range(T): # for each frame\n",
    "        chunck = realSamples[t*hop : t*hop + N] # get the frame t of audio data\n",
    "        X = fft(chunck * hann) # apply FFT on windowed signal (the result contains N complex numbers)\n",
    "        STFT[:, t] = X\n",
    "    spect = np.abs(STFT[:int(N/2), :]) # complex numbers --> abs values\n",
    "    plt.plot(spect[:,0])\n",
    "    totalHarmonics.append(spect[:,0])\n",
    "print(len(totalHarmonics))\n",
    "\n",
    "# Find the midi note\n",
    "# Convert that to freqeuncy f(Hz)\n",
    "# k = f * N / sr to find frequency bin\n",
    "# Find highest value in range of 1 higher to 1 lower frequency bin\n",
    "# Double f value and recalculate k using new f"
   ]
  },
  {
   "cell_type": "code",
   "execution_count": 163,
   "metadata": {},
   "outputs": [],
   "source": [
    "# Find the midi note\n",
    "# Convert that to freqeuncy f(Hz)\n",
    "# k = f * N / sr to find frequency bin\n",
    "# Find highest value in range of 1 higher to 1 lower frequency bin\n",
    "# Double f value and recalculate k using new f\n",
    "import numpy as np\n",
    "freq = 146.83\n",
    "sr = 8000\n",
    "N = 1024\n",
    "actualK = (freq * N) / sr\n",
    "nums = np.array(spect[:,0])\n",
    "harmonics = []\n",
    "realHarmonics = []\n",
    "\n",
    "for spectro in totalHarmonics:\n",
    "    harmonics = []\n",
    "    nums = np.array(spectro)\n",
    "    for i in range(1,6):\n",
    "        actualK = (i * freq * N) / sr\n",
    "        val = int(actualK)\n",
    "        harmonics.append(max(nums[val-10:val+10]))\n",
    "\n",
    "    sum = 0\n",
    "    for harmonic in harmonics:\n",
    "        sum = sum + harmonic\n",
    "\n",
    "    ratios = []\n",
    "    for harmonic in harmonics:\n",
    "        ratios.append(harmonic/sum)\n",
    "\n",
    "    realHarmonics.append(ratios)"
   ]
  },
  {
   "cell_type": "code",
   "execution_count": 161,
   "metadata": {},
   "outputs": [],
   "source": [
    "import csv\n",
    "\n",
    "with open(\"dGuitarLong.csv\",\"w+\") as my_csv:\n",
    "    csvWriter = csv.writer(my_csv,delimiter=',')\n",
    "    csvWriter.writerows(realHarmonics)"
   ]
  },
  {
   "cell_type": "code",
   "execution_count": null,
   "metadata": {},
   "outputs": [],
   "source": []
  }
 ],
 "metadata": {
  "interpreter": {
   "hash": "aee8b7b246df8f9039afb4144a1f6fd8d2ca17a180786b69acc140d282b71a49"
  },
  "kernelspec": {
   "display_name": "Python 3.9.7 64-bit",
   "language": "python",
   "name": "python3"
  },
  "language_info": {
   "codemirror_mode": {
    "name": "ipython",
    "version": 3
   },
   "file_extension": ".py",
   "mimetype": "text/x-python",
   "name": "python",
   "nbconvert_exporter": "python",
   "pygments_lexer": "ipython3",
   "version": "3.9.7"
  },
  "orig_nbformat": 4
 },
 "nbformat": 4,
 "nbformat_minor": 2
}
