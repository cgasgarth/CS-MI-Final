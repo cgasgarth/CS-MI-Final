{
 "cells": [
  {
   "cell_type": "code",
   "execution_count": 3,
   "metadata": {},
   "outputs": [
    {
     "name": "stdout",
     "output_type": "stream",
     "text": [
      "656\n"
     ]
    },
    {
     "data": {
      "image/png": "[encoded data removed]",
      "text/plain": [
       "<Figure size 432x288 with 1 Axes>"
      ]
     },
     "metadata": {
      "needs_background": "light"
     },
     "output_type": "display_data"
    }
   ],
   "source": [
    "from numpy.fft import fft\n",
    "import librosa\n",
    "import math\n",
    "import matplotlib.pyplot as plt\n",
    "import numpy as np\n",
    "\n",
    "# initial values\n",
    "SR = 8000 # DON'T CHANGE\n",
    "N = 1024 # DON'T CHANGE\n",
    "hop = int(N/2) # DON'T CHANGE\n",
    "file_path = \"dguitarLong.wav\"\n",
    "samples, sr = librosa.load(file_path, sr = SR)\n",
    "\n",
    "totalHarmonics = []\n",
    "\n",
    "# finds STFT for each frame of audio file\n",
    "for x in range(0, int(len(samples) / 1024) - 1):\n",
    "    realSamples = samples[1026 * x : 1026 * (x + 1)]\n",
    "    # Calculate STFT\n",
    "    T = math.floor( (len(realSamples)-N) / hop ) + 1 # the total number of frames\n",
    "    STFT = np.zeros((N, T), dtype='complex') # the STFT result is a N by T matrix\n",
    "    hann = 0.5 * ( 1 - np.cos(2*np.pi*np.arange(N)/N) ) # Hann window\n",
    "    for t in range(T): # for each frame\n",
    "        chunck = realSamples[t*hop : t*hop + N] # get the frame t of audio data\n",
    "        X = fft(chunck * hann) # apply FFT on windowed signal (the result contains N complex numbers)\n",
    "        STFT[:, t] = X\n",
    "    spect = np.abs(STFT[:int(N/2), :]) # complex numbers --> abs values\n",
    "    plt.plot(spect[:,0])\n",
    "    totalHarmonics.append(spect[:,0])"
   ]
  },
  {
   "cell_type": "code",
   "execution_count": 4,
   "metadata": {},
   "outputs": [],
   "source": [
    "# Find the midi note\n",
    "# Convert that to freqeuncy f(Hz)\n",
    "# k = f * N / sr to find frequency bin\n",
    "# Find highest value in range of 1 higher to 1 lower frequency bin\n",
    "# Double f value and recalculate k using new f\n",
    "freq = 146.83\n",
    "sr = 8000\n",
    "N = 1024\n",
    "actualK = (freq * N) / sr\n",
    "nums = np.array(spect[:,0])\n",
    "harmonics = []\n",
    "realHarmonics = []\n",
    "\n",
    "# finds first 5 harmonic ratios for each frame\n",
    "for spectro in totalHarmonics:\n",
    "    harmonics = []\n",
    "    nums = np.array(spectro)\n",
    "    for i in range(1,6):\n",
    "        actualK = (i * freq * N) / sr\n",
    "        val = int(actualK)\n",
    "        harmonics.append(max(nums[val-10:val+10]))\n",
    "\n",
    "    sum = 0\n",
    "    for harmonic in harmonics:\n",
    "        sum = sum + harmonic\n",
    "\n",
    "    ratios = []\n",
    "    for harmonic in harmonics:\n",
    "        ratios.append(harmonic/sum)\n",
    "\n",
    "    realHarmonics.append(ratios)"
   ]
  },
  {
   "cell_type": "code",
   "execution_count": 5,
   "metadata": {},
   "outputs": [],
   "source": [
    "import csv\n",
    "\n",
    "# write harmonic data to a csv\n",
    "with open(\"dGuitarLong.csv\",\"w+\") as my_csv:\n",
    "    csvWriter = csv.writer(my_csv,delimiter=',')\n",
    "    csvWriter.writerows(realHarmonics)"
   ]
  },
  {
   "cell_type": "code",
   "execution_count": null,
   "metadata": {},
   "outputs": [],
   "source": []
  }
 ],
 "metadata": {
  "interpreter": {
   "hash": "aee8b7b246df8f9039afb4144a1f6fd8d2ca17a180786b69acc140d282b71a49"
  },
  "kernelspec": {
   "display_name": "Python 3.9.7 64-bit",
   "language": "python",
   "name": "python3"
  },
  "language_info": {
   "codemirror_mode": {
    "name": "ipython",
    "version": 3
   },
   "file_extension": ".py",
   "mimetype": "text/x-python",
   "name": "python",
   "nbconvert_exporter": "python",
   "pygments_lexer": "ipython3",
   "version": "3.9.7"
  },
  "orig_nbformat": 4
 },
 "nbformat": 4,
 "nbformat_minor": 2
}
